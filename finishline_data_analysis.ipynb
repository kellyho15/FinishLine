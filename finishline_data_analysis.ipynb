{
 "cells": [
  {
   "cell_type": "markdown",
   "metadata": {},
   "source": [
    "# Finish Line Data Analysis"
   ]
  },
  {
   "cell_type": "code",
   "execution_count": 1,
   "metadata": {},
   "outputs": [],
   "source": [
    "import pandas as pd \n",
    "import numpy as np\n",
    "import re\n",
    "\n",
    "import glob\n",
    "men_data = glob.glob(\"finishline_men_*\")\n",
    "women_data = glob.glob(\"finishline_women_*\")\n",
    "\n",
    "from matplotlib import pyplot as plt\n",
    "plt.rcdefaults()\n",
    "%matplotlib inline\n",
    "plt.style.use('ggplot')\n",
    "import seaborn as sns\n",
    "\n",
    "import warnings\n",
    "warnings.filterwarnings('ignore')"
   ]
  },
  {
   "cell_type": "markdown",
   "metadata": {},
   "source": [
    "# men shoes data"
   ]
  },
  {
   "cell_type": "code",
   "execution_count": 2,
   "metadata": {},
   "outputs": [],
   "source": [
    "# read in men shoes data\n",
    "men_df = pd.concat([pd.read_csv(f, header = None) for f in men_data])\n",
    "\n",
    "# label column names\n",
    "men_df.columns = [\"item\", \"color\", \"price\", \"saleprice\", \"review\", \"rating\"]\n",
    "\n",
    "# remove duplicated items for different colors of the same shoes  \n",
    "men_df.drop_duplicates(keep=False, inplace=True)\n",
    "\n",
    "# add in gender column\n",
    "men_df.loc[:,'gender'] = 'men'"
   ]
  },
  {
   "cell_type": "markdown",
   "metadata": {},
   "source": [
    "# women shoes data"
   ]
  },
  {
   "cell_type": "code",
   "execution_count": 3,
   "metadata": {},
   "outputs": [],
   "source": [
    "# read in women shoes data\n",
    "women_df = pd.concat([pd.read_csv(f, header = None) for f in women_data])\n",
    "\n",
    "# label column names\n",
    "women_df.columns = [\"item\", \"color\", \"price\", \"saleprice\", \"review\", \"rating\"]\n",
    "\n",
    "# remove duplicated items for different colors of the same shoes\n",
    "women_df.drop_duplicates(keep=False, inplace=True)\n",
    "\n",
    "# add in gender column\n",
    "women_df.loc[:,'gender'] = 'women'"
   ]
  },
  {
   "cell_type": "markdown",
   "metadata": {},
   "source": [
    "# combine men and women shoes data"
   ]
  },
  {
   "cell_type": "code",
   "execution_count": 4,
   "metadata": {},
   "outputs": [],
   "source": [
    "# combine men and women data\n",
    "total_df = pd.concat([men_df, women_df])\n",
    "\n",
    "# filter out featured brands\n",
    "nike = total_df[total_df['item'].str.contains(\"Nike\")]   # jordan brand shoes aren't included here\n",
    "adidas = total_df[total_df['item'].str.contains(\"adidas\")]\n",
    "jordan = total_df[total_df['item'].str.contains(\"Jordan\")]\n",
    "under = total_df[total_df['item'].str.contains(\"Under Armour\")]\n",
    "puma = total_df[total_df['item'].str.contains(\"Puma\")]\n",
    "\n",
    "# add brand column for featured brands on Finish Line\n",
    "nike.loc[:,'brand'] = 'nike'\n",
    "adidas.loc[:,'brand'] = 'adidas'\n",
    "jordan.loc[:,'brand'] = 'jordan'\n",
    "under.loc[:,'brand'] = 'under'\n",
    "puma.loc[:,'brand'] = 'puma'\n",
    "brand_df = pd.concat([nike, adidas, jordan, under, puma])\n",
    "\n",
    "# shoes type\n",
    "run = brand_df[brand_df['item'].str.contains(\"Running\")] \n",
    "casual = brand_df[brand_df['item'].str.contains(\"Casual\")]\n",
    "bask = brand_df[brand_df['item'].str.contains(\"Basketball\")]\n",
    "train = brand_df[brand_df['item'].str.contains(\"Training\")]\n",
    "\n",
    "# add type column\n",
    "run.loc[:,'type'] = 'running'\n",
    "casual.loc[:,'type'] = 'casual'\n",
    "bask.loc[:,'type'] = 'basketball'\n",
    "train.loc[:,'type'] = 'training'\n",
    "\n",
    "combine_df = pd.concat([run, casual, bask, train])"
   ]
  },
  {
   "cell_type": "code",
   "execution_count": 5,
   "metadata": {},
   "outputs": [],
   "source": [
    "# convert price\n",
    "combine_df['price'] = combine_df['price'].str.replace('$', '').astype(float).round(2)\n",
    "\n",
    "# convert saleprice to numeric \n",
    "notnan = combine_df.saleprice.notnull() \n",
    "notseeprice = combine_df.saleprice != 'See price in cart'\n",
    "combine_df.loc[notnan & notseeprice,'saleprice'] = combine_df.loc[notnan & notseeprice,'saleprice'].str.replace('$', '').astype(float).round(2)\n",
    "\n",
    "# convert number of color to numeric value\n",
    "combine_df['color'] = combine_df['color'].str.replace(' Colors| Color', '').astype(int)\n",
    "\n",
    "# combine_df still has doublicated items becasue for items that are on sale,\n",
    "# there are different sale prices for different colors \n"
   ]
  },
  {
   "cell_type": "code",
   "execution_count": 6,
   "metadata": {},
   "outputs": [],
   "source": [
    "# contain only unique items of shoes to look at color options, ratings, and number of reviews \n",
    "no_dup_df = combine_df.drop_duplicates('item')"
   ]
  },
  {
   "cell_type": "markdown",
   "metadata": {},
   "source": [
    "# data analysis"
   ]
  },
  {
   "cell_type": "code",
   "execution_count": 7,
   "metadata": {},
   "outputs": [
    {
     "data": {
      "text/plain": [
       "Text(0.5,1,'Finishline Shoes Merchandise')"
      ]
     },
     "execution_count": 7,
     "metadata": {},
     "output_type": "execute_result"
    },
    {
     "data": {
      "image/png": "[encoded data removed]",
      "text/plain": [
       "<matplotlib.figure.Figure at 0x10c642748>"
      ]
     },
     "metadata": {},
     "output_type": "display_data"
    }
   ],
   "source": [
    "sns.set(font_scale = 1.2)  # this will set the font scale for all plots\n",
    "\n",
    "# Count Plot for different brands on finishline\n",
    "sns.countplot(x='brand', data=no_dup_df, palette=\"deep\").set(xticklabels=['Nike', 'Adidas', 'Jordan', 'Under Armour', 'Puma'])\n",
    "plt.xlabel('')\n",
    "plt.ylabel('# of shoes')\n",
    "plt.title('Finishline Shoes Merchandise')"
   ]
  },
  {
   "cell_type": "markdown",
   "metadata": {},
   "source": [
    "### data analysis between nike vs adidas"
   ]
  },
  {
   "cell_type": "code",
   "execution_count": 8,
   "metadata": {},
   "outputs": [
    {
     "data": {
      "text/plain": [
       "<matplotlib.legend.Legend at 0x1a1342e748>"
      ]
     },
     "execution_count": 8,
     "metadata": {},
     "output_type": "execute_result"
    },
    {
     "data": {
      "image/png": "[encoded data removed]",
      "text/plain": [
       "<matplotlib.figure.Figure at 0x1a1342e780>"
      ]
     },
     "metadata": {},
     "output_type": "display_data"
    }
   ],
   "source": [
    "# dataframe with only nike and adidas\n",
    "nike_ad_df = no_dup_df.loc[(no_dup_df.brand == 'nike')|(no_dup_df.brand == 'adidas'),]\n",
    "\n",
    "# look at the different types of shoes amount in nike and adidas\n",
    "sns.countplot(x='type', data=nike_ad_df, hue=\"brand\", palette=\"deep\").set(xticklabels=['Running', 'Casual', 'Basketball', 'Training'])\n",
    "plt.xlabel('')\n",
    "plt.ylabel('# of shoes')\n",
    "plt.legend(['Nike', 'Adidas'], bbox_to_anchor=(1.3, 0.65))\n"
   ]
  },
  {
   "cell_type": "markdown",
   "metadata": {},
   "source": [
    "### data analysis on nike vs adidas (running and casual shoes only)"
   ]
  },
  {
   "cell_type": "code",
   "execution_count": 9,
   "metadata": {
    "scrolled": true
   },
   "outputs": [],
   "source": [
    "# unique_df contins only nike and adidas' casual and running shoes\n",
    "unique_df = nike_ad_df.loc[(nike_ad_df.type == 'running')|(nike_ad_df.type == 'casual')]\n",
    "men_unique_df = unique_df.loc[unique_df.gender == 'men',]\n",
    "women_unique_df = unique_df.loc[unique_df.gender == 'women',]"
   ]
  },
  {
   "cell_type": "code",
   "execution_count": 10,
   "metadata": {},
   "outputs": [
    {
     "data": {
      "text/plain": [
       "<matplotlib.legend.Legend at 0x1a1c45c128>"
      ]
     },
     "execution_count": 10,
     "metadata": {},
     "output_type": "execute_result"
    },
    {
     "data": {
      "image/png": "[encoded data removed]",
      "text/plain": [
       "<matplotlib.figure.Figure at 0x1a1c42e8d0>"
      ]
     },
     "metadata": {},
     "output_type": "display_data"
    }
   ],
   "source": [
    "# rating vs price\n",
    "sns.lmplot(\"price\", \"rating\", unique_df, fit_reg=False, hue=\"brand\", palette=\"deep\", legend=False)\n",
    "plt.xlabel('Price ($)')\n",
    "plt.ylabel('Ratings')\n",
    "plt.xlim(50,270)\n",
    "plt.legend(['Nike', 'Adidas'], bbox_to_anchor=(1.4, 0.6)) "
   ]
  },
  {
   "cell_type": "code",
   "execution_count": 11,
   "metadata": {
    "scrolled": false
   },
   "outputs": [
    {
     "data": {
      "text/plain": [
       "<matplotlib.legend.Legend at 0x1a1c364c88>"
      ]
     },
     "execution_count": 11,
     "metadata": {},
     "output_type": "execute_result"
    },
    {
     "data": {
      "image/png": "[encoded data removed]",
      "text/plain": [
       "<matplotlib.figure.Figure at 0x1111f9e10>"
      ]
     },
     "metadata": {},
     "output_type": "display_data"
    }
   ],
   "source": [
    "# review vs price\n",
    "unique_df = nike_ad_df.loc[(nike_ad_df.type == 'running')|(nike_ad_df.type == 'casual')]\n",
    "sns.lmplot(\"price\", \"review\", unique_df, fit_reg=False, hue=\"brand\", palette=\"deep\", legend=False)\n",
    "plt.xlabel('Price ($)')\n",
    "plt.ylabel('Reviews')\n",
    "plt.legend(['Nike', 'Adidas'], bbox_to_anchor=(1.4, 0.65)) \n"
   ]
  },
  {
   "cell_type": "code",
   "execution_count": 12,
   "metadata": {},
   "outputs": [
    {
     "data": {
      "text/plain": [
       "<matplotlib.legend.Legend at 0x1a1c479cf8>"
      ]
     },
     "execution_count": 12,
     "metadata": {},
     "output_type": "execute_result"
    },
    {
     "data": {
      "image/png": "[encoded data removed]",
      "text/plain": [
       "<matplotlib.figure.Figure at 0x1a1c664be0>"
      ]
     },
     "metadata": {},
     "output_type": "display_data"
    }
   ],
   "source": [
    "# rating vs color\n",
    "sns.lmplot(\"color\", \"rating\", unique_df, fit_reg=False, hue=\"brand\", palette=\"deep\", legend=False)\n",
    "plt.xlabel('Choices of Colors')\n",
    "plt.ylabel('Ratings')\n",
    "plt.legend(['Nike', 'Adidas'], bbox_to_anchor=(1.4, 0.6)) "
   ]
  },
  {
   "cell_type": "code",
   "execution_count": 13,
   "metadata": {},
   "outputs": [
    {
     "data": {
      "text/plain": [
       "<matplotlib.legend.Legend at 0x1a1c71f128>"
      ]
     },
     "execution_count": 13,
     "metadata": {},
     "output_type": "execute_result"
    },
    {
     "data": {
      "image/png": "[encoded data removed]",
      "text/plain": [
       "<matplotlib.figure.Figure at 0x1a1c71acc0>"
      ]
     },
     "metadata": {},
     "output_type": "display_data"
    }
   ],
   "source": [
    "# reviews vs color\n",
    "sns.lmplot(\"color\", \"review\", unique_df, fit_reg=False, hue=\"brand\", palette=\"deep\", legend=False)\n",
    "plt.xlabel('Choices of Colors')\n",
    "plt.ylabel('Reviews / Shoes')\n",
    "plt.legend(['Nike', 'Adidas'], bbox_to_anchor=(1.4, 0.6)) "
   ]
  },
  {
   "cell_type": "code",
   "execution_count": 14,
   "metadata": {},
   "outputs": [
    {
     "data": {
      "text/plain": [
       "Text(0.5,1,'Pricing Distribution')"
      ]
     },
     "execution_count": 14,
     "metadata": {},
     "output_type": "execute_result"
    },
    {
     "data": {
      "image/png": "[encoded data removed]",
      "text/plain": [
       "<matplotlib.figure.Figure at 0x1114a1518>"
      ]
     },
     "metadata": {},
     "output_type": "display_data"
    }
   ],
   "source": [
    "sns.boxplot(x=\"brand\", y=\"price\", hue=\"type\", data=unique_df, palette='colorblind').set_xticklabels(['Nike','Adidas'])\n",
    "plt.xlabel('')\n",
    "plt.ylabel('Price ($)')\n",
    "plt.legend(bbox_to_anchor=(1.4, 0.7))\n",
    "plt.title('Pricing Distribution')\n"
   ]
  },
  {
   "cell_type": "code",
   "execution_count": 15,
   "metadata": {},
   "outputs": [],
   "source": [
    "########## MEN DATA ANALYSIS ################################################################################"
   ]
  },
  {
   "cell_type": "code",
   "execution_count": 16,
   "metadata": {},
   "outputs": [
    {
     "data": {
      "text/html": [
       "<div>\n",
       "<style scoped>\n",
       "    .dataframe tbody tr th:only-of-type {\n",
       "        vertical-align: middle;\n",
       "    }\n",
       "\n",
       "    .dataframe tbody tr th {\n",
       "        vertical-align: top;\n",
       "    }\n",
       "\n",
       "    .dataframe thead tr th {\n",
       "        text-align: left;\n",
       "    }\n",
       "\n",
       "    .dataframe thead tr:last-of-type th {\n",
       "        text-align: right;\n",
       "    }\n",
       "</style>\n",
       "<table border=\"1\" class=\"dataframe\">\n",
       "  <thead>\n",
       "    <tr>\n",
       "      <th></th>\n",
       "      <th></th>\n",
       "      <th>item</th>\n",
       "      <th colspan=\"4\" halign=\"left\">review</th>\n",
       "      <th colspan=\"3\" halign=\"left\">rating</th>\n",
       "    </tr>\n",
       "    <tr>\n",
       "      <th></th>\n",
       "      <th></th>\n",
       "      <th>count</th>\n",
       "      <th>count</th>\n",
       "      <th>max</th>\n",
       "      <th>sum</th>\n",
       "      <th>mean</th>\n",
       "      <th>min</th>\n",
       "      <th>max</th>\n",
       "      <th>mean</th>\n",
       "    </tr>\n",
       "    <tr>\n",
       "      <th>brand</th>\n",
       "      <th>type</th>\n",
       "      <th></th>\n",
       "      <th></th>\n",
       "      <th></th>\n",
       "      <th></th>\n",
       "      <th></th>\n",
       "      <th></th>\n",
       "      <th></th>\n",
       "      <th></th>\n",
       "    </tr>\n",
       "  </thead>\n",
       "  <tbody>\n",
       "    <tr>\n",
       "      <th rowspan=\"2\" valign=\"top\">adidas</th>\n",
       "      <th>casual</th>\n",
       "      <td>20</td>\n",
       "      <td>18</td>\n",
       "      <td>1154.0</td>\n",
       "      <td>6399.0</td>\n",
       "      <td>355.500000</td>\n",
       "      <td>4.1</td>\n",
       "      <td>4.7</td>\n",
       "      <td>4.416667</td>\n",
       "    </tr>\n",
       "    <tr>\n",
       "      <th>running</th>\n",
       "      <td>27</td>\n",
       "      <td>19</td>\n",
       "      <td>2447.0</td>\n",
       "      <td>4244.0</td>\n",
       "      <td>223.368421</td>\n",
       "      <td>3.6</td>\n",
       "      <td>5.0</td>\n",
       "      <td>4.357895</td>\n",
       "    </tr>\n",
       "    <tr>\n",
       "      <th rowspan=\"2\" valign=\"top\">nike</th>\n",
       "      <th>casual</th>\n",
       "      <td>57</td>\n",
       "      <td>35</td>\n",
       "      <td>1185.0</td>\n",
       "      <td>2951.0</td>\n",
       "      <td>84.314286</td>\n",
       "      <td>1.0</td>\n",
       "      <td>5.0</td>\n",
       "      <td>4.125714</td>\n",
       "    </tr>\n",
       "    <tr>\n",
       "      <th>running</th>\n",
       "      <td>38</td>\n",
       "      <td>28</td>\n",
       "      <td>609.0</td>\n",
       "      <td>1349.0</td>\n",
       "      <td>48.178571</td>\n",
       "      <td>3.0</td>\n",
       "      <td>5.0</td>\n",
       "      <td>4.096429</td>\n",
       "    </tr>\n",
       "  </tbody>\n",
       "</table>\n",
       "</div>"
      ],
      "text/plain": [
       "                item review                             rating               \n",
       "               count  count     max     sum        mean    min  max      mean\n",
       "brand  type                                                                  \n",
       "adidas casual     20     18  1154.0  6399.0  355.500000    4.1  4.7  4.416667\n",
       "       running    27     19  2447.0  4244.0  223.368421    3.6  5.0  4.357895\n",
       "nike   casual     57     35  1185.0  2951.0   84.314286    1.0  5.0  4.125714\n",
       "       running    38     28   609.0  1349.0   48.178571    3.0  5.0  4.096429"
      ]
     },
     "execution_count": 16,
     "metadata": {},
     "output_type": "execute_result"
    }
   ],
   "source": [
    "colFun = {'item':['count'],\n",
    "          'review': ['count', 'max', 'sum', 'mean'],\n",
    "          'rating': ['min', 'max', 'mean']}\n",
    "\n",
    "# item count, review count, max review number for men\n",
    "men_sum = men_unique_df[['item', 'review', 'rating', 'brand', 'type']].groupby(['brand','type']).agg(colFun)\n",
    "men_sum"
   ]
  },
  {
   "cell_type": "code",
   "execution_count": 17,
   "metadata": {},
   "outputs": [
    {
     "data": {
      "text/html": [
       "<div>\n",
       "<style scoped>\n",
       "    .dataframe tbody tr th:only-of-type {\n",
       "        vertical-align: middle;\n",
       "    }\n",
       "\n",
       "    .dataframe tbody tr th {\n",
       "        vertical-align: top;\n",
       "    }\n",
       "\n",
       "    .dataframe thead tr th {\n",
       "        text-align: left;\n",
       "    }\n",
       "\n",
       "    .dataframe thead tr:last-of-type th {\n",
       "        text-align: right;\n",
       "    }\n",
       "</style>\n",
       "<table border=\"1\" class=\"dataframe\">\n",
       "  <thead>\n",
       "    <tr>\n",
       "      <th></th>\n",
       "      <th></th>\n",
       "      <th>review</th>\n",
       "      <th>rating</th>\n",
       "    </tr>\n",
       "    <tr>\n",
       "      <th></th>\n",
       "      <th></th>\n",
       "      <th>mean</th>\n",
       "      <th>mean</th>\n",
       "    </tr>\n",
       "    <tr>\n",
       "      <th>brand</th>\n",
       "      <th>type</th>\n",
       "      <th></th>\n",
       "      <th></th>\n",
       "    </tr>\n",
       "  </thead>\n",
       "  <tbody>\n",
       "    <tr>\n",
       "      <th rowspan=\"2\" valign=\"top\">adidas</th>\n",
       "      <th>casual</th>\n",
       "      <td>355.500000</td>\n",
       "      <td>4.416667</td>\n",
       "    </tr>\n",
       "    <tr>\n",
       "      <th>running</th>\n",
       "      <td>223.368421</td>\n",
       "      <td>4.357895</td>\n",
       "    </tr>\n",
       "    <tr>\n",
       "      <th rowspan=\"2\" valign=\"top\">nike</th>\n",
       "      <th>casual</th>\n",
       "      <td>84.314286</td>\n",
       "      <td>4.125714</td>\n",
       "    </tr>\n",
       "    <tr>\n",
       "      <th>running</th>\n",
       "      <td>48.178571</td>\n",
       "      <td>4.096429</td>\n",
       "    </tr>\n",
       "  </tbody>\n",
       "</table>\n",
       "</div>"
      ],
      "text/plain": [
       "                    review    rating\n",
       "                      mean      mean\n",
       "brand  type                         \n",
       "adidas casual   355.500000  4.416667\n",
       "       running  223.368421  4.357895\n",
       "nike   casual    84.314286  4.125714\n",
       "       running   48.178571  4.096429"
      ]
     },
     "execution_count": 17,
     "metadata": {},
     "output_type": "execute_result"
    }
   ],
   "source": [
    "# Ave review, rating per item, men\n",
    "men_sum.loc[:, (slice(None), 'mean')]"
   ]
  },
  {
   "cell_type": "code",
   "execution_count": 18,
   "metadata": {},
   "outputs": [
    {
     "data": {
      "text/html": [
       "<div>\n",
       "<style scoped>\n",
       "    .dataframe tbody tr th:only-of-type {\n",
       "        vertical-align: middle;\n",
       "    }\n",
       "\n",
       "    .dataframe tbody tr th {\n",
       "        vertical-align: top;\n",
       "    }\n",
       "\n",
       "    .dataframe thead th {\n",
       "        text-align: right;\n",
       "    }\n",
       "</style>\n",
       "<table border=\"1\" class=\"dataframe\">\n",
       "  <thead>\n",
       "    <tr style=\"text-align: right;\">\n",
       "      <th></th>\n",
       "      <th>item</th>\n",
       "      <th>color</th>\n",
       "      <th>price</th>\n",
       "      <th>saleprice</th>\n",
       "      <th>review</th>\n",
       "      <th>rating</th>\n",
       "      <th>gender</th>\n",
       "      <th>brand</th>\n",
       "      <th>type</th>\n",
       "    </tr>\n",
       "  </thead>\n",
       "  <tbody>\n",
       "    <tr>\n",
       "      <th>231</th>\n",
       "      <td>Men's Nike Air Max More Running Shoes</td>\n",
       "      <td>2</td>\n",
       "      <td>180.0</td>\n",
       "      <td>139.98</td>\n",
       "      <td>23.0</td>\n",
       "      <td>3.6</td>\n",
       "      <td>men</td>\n",
       "      <td>nike</td>\n",
       "      <td>running</td>\n",
       "    </tr>\n",
       "    <tr>\n",
       "      <th>47</th>\n",
       "      <td>Men's Nike Air Zoom Pegasus 35 Running Shoes</td>\n",
       "      <td>7</td>\n",
       "      <td>120.0</td>\n",
       "      <td>99.98</td>\n",
       "      <td>21.0</td>\n",
       "      <td>3.8</td>\n",
       "      <td>men</td>\n",
       "      <td>nike</td>\n",
       "      <td>running</td>\n",
       "    </tr>\n",
       "    <tr>\n",
       "      <th>11</th>\n",
       "      <td>Men's Nike Lunar Charge Essential Running Shoes</td>\n",
       "      <td>1</td>\n",
       "      <td>110.0</td>\n",
       "      <td>37.48</td>\n",
       "      <td>20.0</td>\n",
       "      <td>3.2</td>\n",
       "      <td>men</td>\n",
       "      <td>nike</td>\n",
       "      <td>running</td>\n",
       "    </tr>\n",
       "    <tr>\n",
       "      <th>182</th>\n",
       "      <td>Men's Nike Air Zoom Mariah Flyknit Racer Runni...</td>\n",
       "      <td>3</td>\n",
       "      <td>150.0</td>\n",
       "      <td>79.98</td>\n",
       "      <td>28.0</td>\n",
       "      <td>3.5</td>\n",
       "      <td>men</td>\n",
       "      <td>nike</td>\n",
       "      <td>running</td>\n",
       "    </tr>\n",
       "    <tr>\n",
       "      <th>63</th>\n",
       "      <td>Men's Nike Air Max 270 Casual Shoes</td>\n",
       "      <td>11</td>\n",
       "      <td>160.0</td>\n",
       "      <td>NaN</td>\n",
       "      <td>46.0</td>\n",
       "      <td>3.8</td>\n",
       "      <td>men</td>\n",
       "      <td>nike</td>\n",
       "      <td>casual</td>\n",
       "    </tr>\n",
       "  </tbody>\n",
       "</table>\n",
       "</div>"
      ],
      "text/plain": [
       "                                                  item  color  price  \\\n",
       "231              Men's Nike Air Max More Running Shoes      2  180.0   \n",
       "47        Men's Nike Air Zoom Pegasus 35 Running Shoes      7  120.0   \n",
       "11     Men's Nike Lunar Charge Essential Running Shoes      1  110.0   \n",
       "182  Men's Nike Air Zoom Mariah Flyknit Racer Runni...      3  150.0   \n",
       "63                 Men's Nike Air Max 270 Casual Shoes     11  160.0   \n",
       "\n",
       "    saleprice  review  rating gender brand     type  \n",
       "231    139.98    23.0     3.6    men  nike  running  \n",
       "47      99.98    21.0     3.8    men  nike  running  \n",
       "11      37.48    20.0     3.2    men  nike  running  \n",
       "182     79.98    28.0     3.5    men  nike  running  \n",
       "63        NaN    46.0     3.8    men  nike   casual  "
      ]
     },
     "execution_count": 18,
     "metadata": {},
     "output_type": "execute_result"
    },
    {
     "data": {
      "image/png": "[encoded data removed]",
      "text/plain": [
       "<matplotlib.figure.Figure at 0x1a1c70b588>"
      ]
     },
     "metadata": {},
     "output_type": "display_data"
    }
   ],
   "source": [
    "# rating men\n",
    "%matplotlib inline\n",
    "sns.swarmplot(x='brand', \n",
    "              y='rating', \n",
    "              data=men_unique_df.loc[men_unique_df.review >=20,],  # items with at least 20 reviews\n",
    "              hue='type', \n",
    "              dodge=True, # 2. Separate points by hue\n",
    "              palette=\"colorblind\").set(xticklabels=['Nike', 'Adidas'])\n",
    "plt.xlabel('')\n",
    "plt.ylabel('Ratings / shoes')\n",
    "plt.title('Men', {'fontsize': 20})\n",
    "plt.ylim(3,5)\n",
    "plt.legend(['running', 'casual'], bbox_to_anchor=(1.4, 0.7))\n",
    "# adidas rating is centered around 4-5, nike's is more spread out\n",
    "\n",
    "men_unique_df.loc[(men_unique_df.review >=20) & (men_unique_df.brand == 'nike') & (men_unique_df.rating <4),]\n",
    "# look at word cloud for Men's Nike Air Zoom Mariah Flyknit Racer"
   ]
  },
  {
   "cell_type": "code",
   "execution_count": 19,
   "metadata": {
    "scrolled": true
   },
   "outputs": [
    {
     "data": {
      "text/plain": [
       "<matplotlib.legend.Legend at 0x1a1cd07ba8>"
      ]
     },
     "execution_count": 19,
     "metadata": {},
     "output_type": "execute_result"
    },
    {
     "data": {
      "image/png": "[encoded data removed]",
      "text/plain": [
       "<matplotlib.figure.Figure at 0x1a1c579390>"
      ]
     },
     "metadata": {},
     "output_type": "display_data"
    }
   ],
   "source": [
    "# review men\n",
    "sns.swarmplot(x='brand', \n",
    "              y='review', \n",
    "              data=men_unique_df, \n",
    "              hue='type', \n",
    "              dodge=True,\n",
    "              palette=\"colorblind\").set(xticklabels=['Nike', 'Adidas'])\n",
    "plt.xlabel('')\n",
    "plt.ylabel('Reviews / shoes')\n",
    "plt.title('Men', {'fontsize': 20})\n",
    "plt.legend(['running', 'casual'], bbox_to_anchor=(1.4, 0.7))\n",
    "# addidas has more items that have reviews over 500, indicating it's a more popular brand\n",
    "# adidas's casual shoes seems to be developing into a strong pipeline with similar styles for casual shoes?\n"
   ]
  },
  {
   "cell_type": "code",
   "execution_count": 20,
   "metadata": {},
   "outputs": [
    {
     "data": {
      "text/html": [
       "<div>\n",
       "<style scoped>\n",
       "    .dataframe tbody tr th:only-of-type {\n",
       "        vertical-align: middle;\n",
       "    }\n",
       "\n",
       "    .dataframe tbody tr th {\n",
       "        vertical-align: top;\n",
       "    }\n",
       "\n",
       "    .dataframe thead th {\n",
       "        text-align: right;\n",
       "    }\n",
       "</style>\n",
       "<table border=\"1\" class=\"dataframe\">\n",
       "  <thead>\n",
       "    <tr style=\"text-align: right;\">\n",
       "      <th></th>\n",
       "      <th>item</th>\n",
       "      <th>color</th>\n",
       "      <th>price</th>\n",
       "      <th>saleprice</th>\n",
       "      <th>review</th>\n",
       "      <th>rating</th>\n",
       "      <th>gender</th>\n",
       "      <th>brand</th>\n",
       "      <th>type</th>\n",
       "    </tr>\n",
       "  </thead>\n",
       "  <tbody>\n",
       "    <tr>\n",
       "      <th>42</th>\n",
       "      <td>Men's adidas UltraBOOST Running Shoes</td>\n",
       "      <td>9</td>\n",
       "      <td>200.0</td>\n",
       "      <td>NaN</td>\n",
       "      <td>2447.0</td>\n",
       "      <td>4.6</td>\n",
       "      <td>men</td>\n",
       "      <td>adidas</td>\n",
       "      <td>running</td>\n",
       "    </tr>\n",
       "    <tr>\n",
       "      <th>54</th>\n",
       "      <td>Men's adidas Superstar Casual Shoes</td>\n",
       "      <td>7</td>\n",
       "      <td>90.0</td>\n",
       "      <td>37.48</td>\n",
       "      <td>1154.0</td>\n",
       "      <td>4.5</td>\n",
       "      <td>men</td>\n",
       "      <td>adidas</td>\n",
       "      <td>casual</td>\n",
       "    </tr>\n",
       "    <tr>\n",
       "      <th>38</th>\n",
       "      <td>Men's adidas NMD Runner R1 Casual Shoes</td>\n",
       "      <td>13</td>\n",
       "      <td>130.0</td>\n",
       "      <td>99.98</td>\n",
       "      <td>947.0</td>\n",
       "      <td>4.4</td>\n",
       "      <td>men</td>\n",
       "      <td>adidas</td>\n",
       "      <td>casual</td>\n",
       "    </tr>\n",
       "    <tr>\n",
       "      <th>86</th>\n",
       "      <td>Men's adidas NMD Runner XR1 Casual Shoes</td>\n",
       "      <td>2</td>\n",
       "      <td>150.0</td>\n",
       "      <td>89.99</td>\n",
       "      <td>814.0</td>\n",
       "      <td>4.5</td>\n",
       "      <td>men</td>\n",
       "      <td>adidas</td>\n",
       "      <td>casual</td>\n",
       "    </tr>\n",
       "    <tr>\n",
       "      <th>183</th>\n",
       "      <td>Men's adidas NMD R2 Casual Shoes</td>\n",
       "      <td>10</td>\n",
       "      <td>130.0</td>\n",
       "      <td>67.48</td>\n",
       "      <td>727.0</td>\n",
       "      <td>4.5</td>\n",
       "      <td>men</td>\n",
       "      <td>adidas</td>\n",
       "      <td>casual</td>\n",
       "    </tr>\n",
       "    <tr>\n",
       "      <th>103</th>\n",
       "      <td>Men's adidas UltraBOOST Uncaged Running Shoes</td>\n",
       "      <td>2</td>\n",
       "      <td>180.0</td>\n",
       "      <td>112.49</td>\n",
       "      <td>603.0</td>\n",
       "      <td>4.6</td>\n",
       "      <td>men</td>\n",
       "      <td>adidas</td>\n",
       "      <td>running</td>\n",
       "    </tr>\n",
       "    <tr>\n",
       "      <th>125</th>\n",
       "      <td>Men's adidas EQT BOOST Support 93/17 Casual Shoes</td>\n",
       "      <td>2</td>\n",
       "      <td>180.0</td>\n",
       "      <td>89.98</td>\n",
       "      <td>512.0</td>\n",
       "      <td>4.5</td>\n",
       "      <td>men</td>\n",
       "      <td>adidas</td>\n",
       "      <td>casual</td>\n",
       "    </tr>\n",
       "    <tr>\n",
       "      <th>132</th>\n",
       "      <td>Men's adidas I-5923 Runner Casual Shoes</td>\n",
       "      <td>13</td>\n",
       "      <td>130.0</td>\n",
       "      <td>109.98</td>\n",
       "      <td>492.0</td>\n",
       "      <td>4.4</td>\n",
       "      <td>men</td>\n",
       "      <td>adidas</td>\n",
       "      <td>casual</td>\n",
       "    </tr>\n",
       "    <tr>\n",
       "      <th>90</th>\n",
       "      <td>Men's adidas PureBOOST Running Shoes</td>\n",
       "      <td>3</td>\n",
       "      <td>170.0</td>\n",
       "      <td>109.98</td>\n",
       "      <td>420.0</td>\n",
       "      <td>4.4</td>\n",
       "      <td>men</td>\n",
       "      <td>adidas</td>\n",
       "      <td>running</td>\n",
       "    </tr>\n",
       "    <tr>\n",
       "      <th>72</th>\n",
       "      <td>Men's adidas EQT Support ADV Casual Shoes</td>\n",
       "      <td>9</td>\n",
       "      <td>110.0</td>\n",
       "      <td>79.98</td>\n",
       "      <td>400.0</td>\n",
       "      <td>4.2</td>\n",
       "      <td>men</td>\n",
       "      <td>adidas</td>\n",
       "      <td>casual</td>\n",
       "    </tr>\n",
       "  </tbody>\n",
       "</table>\n",
       "</div>"
      ],
      "text/plain": [
       "                                                  item  color  price  \\\n",
       "42               Men's adidas UltraBOOST Running Shoes      9  200.0   \n",
       "54                 Men's adidas Superstar Casual Shoes      7   90.0   \n",
       "38             Men's adidas NMD Runner R1 Casual Shoes     13  130.0   \n",
       "86            Men's adidas NMD Runner XR1 Casual Shoes      2  150.0   \n",
       "183                   Men's adidas NMD R2 Casual Shoes     10  130.0   \n",
       "103      Men's adidas UltraBOOST Uncaged Running Shoes      2  180.0   \n",
       "125  Men's adidas EQT BOOST Support 93/17 Casual Shoes      2  180.0   \n",
       "132            Men's adidas I-5923 Runner Casual Shoes     13  130.0   \n",
       "90                Men's adidas PureBOOST Running Shoes      3  170.0   \n",
       "72           Men's adidas EQT Support ADV Casual Shoes      9  110.0   \n",
       "\n",
       "    saleprice  review  rating gender   brand     type  \n",
       "42        NaN  2447.0     4.6    men  adidas  running  \n",
       "54      37.48  1154.0     4.5    men  adidas   casual  \n",
       "38      99.98   947.0     4.4    men  adidas   casual  \n",
       "86      89.99   814.0     4.5    men  adidas   casual  \n",
       "183     67.48   727.0     4.5    men  adidas   casual  \n",
       "103    112.49   603.0     4.6    men  adidas  running  \n",
       "125     89.98   512.0     4.5    men  adidas   casual  \n",
       "132    109.98   492.0     4.4    men  adidas   casual  \n",
       "90     109.98   420.0     4.4    men  adidas  running  \n",
       "72      79.98   400.0     4.2    men  adidas   casual  "
      ]
     },
     "execution_count": 20,
     "metadata": {},
     "output_type": "execute_result"
    },
    {
     "data": {
      "image/png": "[encoded data removed]",
      "text/plain": [
       "<matplotlib.figure.Figure at 0x1a1cc6de10>"
      ]
     },
     "metadata": {},
     "output_type": "display_data"
    }
   ],
   "source": [
    "# Adidas top 10 (men)\n",
    "top_ad_men = men_unique_df[men_unique_df.brand == 'adidas'].nlargest(10,'review')\n",
    "sns.barplot(x='review', y='item', data=top_ad_men, ci=None, color=\"#dd8452\").\\\n",
    "set(yticklabels= ['UltraBOOST', 'Superstar', 'NMD Runner R1', 'NMD Runner XR1', 'NMD R2',\\\n",
    "                 'UltraBOOST Uncaged', 'EQT BOOST', 'I-5923 Runner', 'PureBOOST', 'EQT Support ADV'])\n",
    "\n",
    "plt.xlabel('Reviews / shoes')\n",
    "plt.ylabel('')\n",
    "plt.title('Men')\n",
    "#plt.rcParams['figure.figsize']=4,8\n",
    "top_ad_men"
   ]
  },
  {
   "cell_type": "code",
   "execution_count": 21,
   "metadata": {},
   "outputs": [
    {
     "data": {
      "text/html": [
       "<div>\n",
       "<style scoped>\n",
       "    .dataframe tbody tr th:only-of-type {\n",
       "        vertical-align: middle;\n",
       "    }\n",
       "\n",
       "    .dataframe tbody tr th {\n",
       "        vertical-align: top;\n",
       "    }\n",
       "\n",
       "    .dataframe thead th {\n",
       "        text-align: right;\n",
       "    }\n",
       "</style>\n",
       "<table border=\"1\" class=\"dataframe\">\n",
       "  <thead>\n",
       "    <tr style=\"text-align: right;\">\n",
       "      <th></th>\n",
       "      <th>item</th>\n",
       "      <th>color</th>\n",
       "      <th>price</th>\n",
       "      <th>saleprice</th>\n",
       "      <th>review</th>\n",
       "      <th>rating</th>\n",
       "      <th>gender</th>\n",
       "      <th>brand</th>\n",
       "      <th>type</th>\n",
       "    </tr>\n",
       "  </thead>\n",
       "  <tbody>\n",
       "    <tr>\n",
       "      <th>315</th>\n",
       "      <td>Men's Nike Roshe One Casual Shoes</td>\n",
       "      <td>3</td>\n",
       "      <td>74.99</td>\n",
       "      <td>48.74</td>\n",
       "      <td>1185.0</td>\n",
       "      <td>4.6</td>\n",
       "      <td>men</td>\n",
       "      <td>nike</td>\n",
       "      <td>casual</td>\n",
       "    </tr>\n",
       "    <tr>\n",
       "      <th>56</th>\n",
       "      <td>Men's Nike Air Force 1 Low Casual Shoes</td>\n",
       "      <td>1</td>\n",
       "      <td>100.00</td>\n",
       "      <td>NaN</td>\n",
       "      <td>907.0</td>\n",
       "      <td>4.5</td>\n",
       "      <td>men</td>\n",
       "      <td>nike</td>\n",
       "      <td>casual</td>\n",
       "    </tr>\n",
       "    <tr>\n",
       "      <th>152</th>\n",
       "      <td>Men's Nike Air Huarache Run Running Shoes</td>\n",
       "      <td>16</td>\n",
       "      <td>110.00</td>\n",
       "      <td>See price in cart</td>\n",
       "      <td>609.0</td>\n",
       "      <td>4.6</td>\n",
       "      <td>men</td>\n",
       "      <td>nike</td>\n",
       "      <td>running</td>\n",
       "    </tr>\n",
       "    <tr>\n",
       "      <th>134</th>\n",
       "      <td>Men's Nike Air Force 1 Mid Casual Shoes</td>\n",
       "      <td>3</td>\n",
       "      <td>94.99</td>\n",
       "      <td>69.98</td>\n",
       "      <td>304.0</td>\n",
       "      <td>4.6</td>\n",
       "      <td>men</td>\n",
       "      <td>nike</td>\n",
       "      <td>casual</td>\n",
       "    </tr>\n",
       "    <tr>\n",
       "      <th>189</th>\n",
       "      <td>Men's Nike Air Max 95 Running Shoes</td>\n",
       "      <td>1</td>\n",
       "      <td>170.00</td>\n",
       "      <td>NaN</td>\n",
       "      <td>140.0</td>\n",
       "      <td>4.5</td>\n",
       "      <td>men</td>\n",
       "      <td>nike</td>\n",
       "      <td>running</td>\n",
       "    </tr>\n",
       "    <tr>\n",
       "      <th>35</th>\n",
       "      <td>Men's Nike Roshe Two Casual Shoes</td>\n",
       "      <td>3</td>\n",
       "      <td>89.99</td>\n",
       "      <td>44.98</td>\n",
       "      <td>139.0</td>\n",
       "      <td>4.2</td>\n",
       "      <td>men</td>\n",
       "      <td>nike</td>\n",
       "      <td>casual</td>\n",
       "    </tr>\n",
       "    <tr>\n",
       "      <th>311</th>\n",
       "      <td>Men's Nike Air Huarache Run Ultra Casual Shoes</td>\n",
       "      <td>4</td>\n",
       "      <td>120.00</td>\n",
       "      <td>See price in cart</td>\n",
       "      <td>122.0</td>\n",
       "      <td>4.7</td>\n",
       "      <td>men</td>\n",
       "      <td>nike</td>\n",
       "      <td>casual</td>\n",
       "    </tr>\n",
       "    <tr>\n",
       "      <th>227</th>\n",
       "      <td>Men's Nike Zoom All Out Low Running Shoes</td>\n",
       "      <td>1</td>\n",
       "      <td>140.00</td>\n",
       "      <td>NaN</td>\n",
       "      <td>93.0</td>\n",
       "      <td>4.0</td>\n",
       "      <td>men</td>\n",
       "      <td>nike</td>\n",
       "      <td>running</td>\n",
       "    </tr>\n",
       "    <tr>\n",
       "      <th>122</th>\n",
       "      <td>Men's Nike Zoom Fly Running Shoes</td>\n",
       "      <td>4</td>\n",
       "      <td>150.00</td>\n",
       "      <td>89.98</td>\n",
       "      <td>73.0</td>\n",
       "      <td>4.3</td>\n",
       "      <td>men</td>\n",
       "      <td>nike</td>\n",
       "      <td>running</td>\n",
       "    </tr>\n",
       "    <tr>\n",
       "      <th>150</th>\n",
       "      <td>Men's Nike Air Huarache Run Premium Running Shoes</td>\n",
       "      <td>9</td>\n",
       "      <td>120.00</td>\n",
       "      <td>74.98</td>\n",
       "      <td>63.0</td>\n",
       "      <td>4.6</td>\n",
       "      <td>men</td>\n",
       "      <td>nike</td>\n",
       "      <td>running</td>\n",
       "    </tr>\n",
       "  </tbody>\n",
       "</table>\n",
       "</div>"
      ],
      "text/plain": [
       "                                                  item  color   price  \\\n",
       "315                  Men's Nike Roshe One Casual Shoes      3   74.99   \n",
       "56             Men's Nike Air Force 1 Low Casual Shoes      1  100.00   \n",
       "152          Men's Nike Air Huarache Run Running Shoes     16  110.00   \n",
       "134            Men's Nike Air Force 1 Mid Casual Shoes      3   94.99   \n",
       "189                Men's Nike Air Max 95 Running Shoes      1  170.00   \n",
       "35                   Men's Nike Roshe Two Casual Shoes      3   89.99   \n",
       "311     Men's Nike Air Huarache Run Ultra Casual Shoes      4  120.00   \n",
       "227          Men's Nike Zoom All Out Low Running Shoes      1  140.00   \n",
       "122                  Men's Nike Zoom Fly Running Shoes      4  150.00   \n",
       "150  Men's Nike Air Huarache Run Premium Running Shoes      9  120.00   \n",
       "\n",
       "             saleprice  review  rating gender brand     type  \n",
       "315              48.74  1185.0     4.6    men  nike   casual  \n",
       "56                 NaN   907.0     4.5    men  nike   casual  \n",
       "152  See price in cart   609.0     4.6    men  nike  running  \n",
       "134              69.98   304.0     4.6    men  nike   casual  \n",
       "189                NaN   140.0     4.5    men  nike  running  \n",
       "35               44.98   139.0     4.2    men  nike   casual  \n",
       "311  See price in cart   122.0     4.7    men  nike   casual  \n",
       "227                NaN    93.0     4.0    men  nike  running  \n",
       "122              89.98    73.0     4.3    men  nike  running  \n",
       "150              74.98    63.0     4.6    men  nike  running  "
      ]
     },
     "execution_count": 21,
     "metadata": {},
     "output_type": "execute_result"
    },
    {
     "data": {
      "image/png": "[encoded data removed]",
      "text/plain": [
       "<matplotlib.figure.Figure at 0x1a1c8bb5f8>"
      ]
     },
     "metadata": {},
     "output_type": "display_data"
    }
   ],
   "source": [
    "# Nike top 10 (men)\n",
    "top_nike_men = men_unique_df[men_unique_df.brand == 'nike'].nlargest(10,'review')\n",
    "sns.barplot(x='review', y='item', data=top_nike_men, ci=None, color=\"#4c72b0\").\\\n",
    "set(yticklabels= ['Roshe One', 'Air Force 1 Low', 'Air Huarache', 'Air Force 1 Mid', 'Air Max 95',\\\n",
    "                 'Roshe Two', 'Air Huarache Ultra', 'Zoom All Out', 'Zoom Fly', 'Huarache Premium'])\n",
    "\n",
    "plt.xlabel('Reviews / shoes')\n",
    "plt.ylabel('')\n",
    "plt.title('Men')\n",
    "top_nike_men\n",
    "# nike_col_men[nike_col_men['item'].str.contains(\"Air Force\")] \n",
    "# Men's Nike Roshe One Casual Shoes, Men's Nike Air Force 1 Low Casual Shoes around 1000 reviews \n",
    "# for Roshe series: promote Men's Nike Roshe Two Casual Shoes more or comeup with similar lines \n",
    "# for air Force series: 12 lines with diverse styles but not recognized. \n"
   ]
  },
  {
   "cell_type": "code",
   "execution_count": 22,
   "metadata": {},
   "outputs": [],
   "source": [
    "########## WOMEN DATA ANALYSIS ##############################################################################"
   ]
  },
  {
   "cell_type": "code",
   "execution_count": 23,
   "metadata": {},
   "outputs": [],
   "source": [
    "# item count, review count, max review number for women\n",
    "women_sum = women_unique_df[['item', 'review', 'rating', 'brand', 'type']].groupby(['brand','type']).agg(colFun)"
   ]
  },
  {
   "cell_type": "code",
   "execution_count": 24,
   "metadata": {},
   "outputs": [
    {
     "data": {
      "text/html": [
       "<div>\n",
       "<style scoped>\n",
       "    .dataframe tbody tr th:only-of-type {\n",
       "        vertical-align: middle;\n",
       "    }\n",
       "\n",
       "    .dataframe tbody tr th {\n",
       "        vertical-align: top;\n",
       "    }\n",
       "\n",
       "    .dataframe thead tr th {\n",
       "        text-align: left;\n",
       "    }\n",
       "\n",
       "    .dataframe thead tr:last-of-type th {\n",
       "        text-align: right;\n",
       "    }\n",
       "</style>\n",
       "<table border=\"1\" class=\"dataframe\">\n",
       "  <thead>\n",
       "    <tr>\n",
       "      <th></th>\n",
       "      <th></th>\n",
       "      <th>review</th>\n",
       "      <th>rating</th>\n",
       "    </tr>\n",
       "    <tr>\n",
       "      <th></th>\n",
       "      <th></th>\n",
       "      <th>mean</th>\n",
       "      <th>mean</th>\n",
       "    </tr>\n",
       "    <tr>\n",
       "      <th>brand</th>\n",
       "      <th>type</th>\n",
       "      <th></th>\n",
       "      <th></th>\n",
       "    </tr>\n",
       "  </thead>\n",
       "  <tbody>\n",
       "    <tr>\n",
       "      <th rowspan=\"2\" valign=\"top\">adidas</th>\n",
       "      <th>casual</th>\n",
       "      <td>240.615385</td>\n",
       "      <td>4.338462</td>\n",
       "    </tr>\n",
       "    <tr>\n",
       "      <th>running</th>\n",
       "      <td>90.333333</td>\n",
       "      <td>4.411111</td>\n",
       "    </tr>\n",
       "    <tr>\n",
       "      <th rowspan=\"2\" valign=\"top\">nike</th>\n",
       "      <th>casual</th>\n",
       "      <td>38.153846</td>\n",
       "      <td>4.179487</td>\n",
       "    </tr>\n",
       "    <tr>\n",
       "      <th>running</th>\n",
       "      <td>33.826087</td>\n",
       "      <td>3.826087</td>\n",
       "    </tr>\n",
       "  </tbody>\n",
       "</table>\n",
       "</div>"
      ],
      "text/plain": [
       "                    review    rating\n",
       "                      mean      mean\n",
       "brand  type                         \n",
       "adidas casual   240.615385  4.338462\n",
       "       running   90.333333  4.411111\n",
       "nike   casual    38.153846  4.179487\n",
       "       running   33.826087  3.826087"
      ]
     },
     "execution_count": 24,
     "metadata": {},
     "output_type": "execute_result"
    }
   ],
   "source": [
    "# Ave review, rating per item, women\n",
    "women_sum.loc[:, (slice(None), 'mean')]\n",
    "# shows that adidas brand is more popular than nike so WHY?? look at consumer gruoup who should they target"
   ]
  },
  {
   "cell_type": "code",
   "execution_count": 25,
   "metadata": {},
   "outputs": [
    {
     "data": {
      "text/plain": [
       "<matplotlib.legend.Legend at 0x1a1cf12198>"
      ]
     },
     "execution_count": 25,
     "metadata": {},
     "output_type": "execute_result"
    },
    {
     "data": {
      "image/png": "[encoded data removed]",
      "text/plain": [
       "<matplotlib.figure.Figure at 0x1a1ca0e208>"
      ]
     },
     "metadata": {},
     "output_type": "display_data"
    }
   ],
   "source": [
    "# rating women\n",
    "%matplotlib inline\n",
    "sns.swarmplot(x='brand', \n",
    "              y='rating', \n",
    "              data=women_unique_df.loc[women_unique_df.review >=20,],  # items with at least 20 reviews\n",
    "              hue='type', \n",
    "              dodge=True, # 2. Separate points by hue\n",
    "              palette=\"colorblind\").set(xticklabels=['Nike', 'Adidas'])\n",
    "plt.xlabel('')\n",
    "plt.ylabel('Rating / shoes')\n",
    "plt.title('Women', {'fontsize': 20})\n",
    "plt.ylim(3,5)\n",
    "plt.legend(['running', 'casual'], bbox_to_anchor=(1.4, 0.7))\n",
    "# same trend as men"
   ]
  },
  {
   "cell_type": "code",
   "execution_count": 26,
   "metadata": {},
   "outputs": [
    {
     "data": {
      "text/plain": [
       "<matplotlib.legend.Legend at 0x1a1cde15c0>"
      ]
     },
     "execution_count": 26,
     "metadata": {},
     "output_type": "execute_result"
    },
    {
     "data": {
      "image/png": "[encoded data removed]",
      "text/plain": [
       "<matplotlib.figure.Figure at 0x1a1cf12e10>"
      ]
     },
     "metadata": {},
     "output_type": "display_data"
    }
   ],
   "source": [
    "# review women\n",
    "sns.swarmplot(x='brand', \n",
    "              y='review', \n",
    "              data=women_unique_df, \n",
    "              hue='type', \n",
    "              dodge=True, # 2. Separate points by hue\n",
    "              palette=\"colorblind\").set(xticklabels=['Nike', 'Adidas'])\n",
    "plt.xlabel('')\n",
    "plt.ylabel('Reviews / shoes')\n",
    "plt.title('Women', {'fontsize': 20})\n",
    "plt.legend(['running', 'casual'], bbox_to_anchor=(1.4, 0.7))\n",
    "# women follows a similar trend, more iconic shoes and adidas casual shoes seems to be developing into a strong pipeline\n"
   ]
  },
  {
   "cell_type": "code",
   "execution_count": 27,
   "metadata": {},
   "outputs": [
    {
     "data": {
      "text/html": [
       "<div>\n",
       "<style scoped>\n",
       "    .dataframe tbody tr th:only-of-type {\n",
       "        vertical-align: middle;\n",
       "    }\n",
       "\n",
       "    .dataframe tbody tr th {\n",
       "        vertical-align: top;\n",
       "    }\n",
       "\n",
       "    .dataframe thead th {\n",
       "        text-align: right;\n",
       "    }\n",
       "</style>\n",
       "<table border=\"1\" class=\"dataframe\">\n",
       "  <thead>\n",
       "    <tr style=\"text-align: right;\">\n",
       "      <th></th>\n",
       "      <th>item</th>\n",
       "      <th>color</th>\n",
       "      <th>price</th>\n",
       "      <th>saleprice</th>\n",
       "      <th>review</th>\n",
       "      <th>rating</th>\n",
       "      <th>gender</th>\n",
       "      <th>brand</th>\n",
       "      <th>type</th>\n",
       "    </tr>\n",
       "  </thead>\n",
       "  <tbody>\n",
       "    <tr>\n",
       "      <th>101</th>\n",
       "      <td>Women's adidas Originals Superstar Casual Shoes</td>\n",
       "      <td>5</td>\n",
       "      <td>99.99</td>\n",
       "      <td>NaN</td>\n",
       "      <td>1191.0</td>\n",
       "      <td>4.4</td>\n",
       "      <td>women</td>\n",
       "      <td>adidas</td>\n",
       "      <td>casual</td>\n",
       "    </tr>\n",
       "    <tr>\n",
       "      <th>181</th>\n",
       "      <td>Women's adidas UltraBOOST Running Shoes</td>\n",
       "      <td>9</td>\n",
       "      <td>180.00</td>\n",
       "      <td>149.98</td>\n",
       "      <td>760.0</td>\n",
       "      <td>4.6</td>\n",
       "      <td>women</td>\n",
       "      <td>adidas</td>\n",
       "      <td>running</td>\n",
       "    </tr>\n",
       "    <tr>\n",
       "      <th>244</th>\n",
       "      <td>Women's adidas NMD R2 Casual Shoes</td>\n",
       "      <td>3</td>\n",
       "      <td>130.00</td>\n",
       "      <td>67.48</td>\n",
       "      <td>636.0</td>\n",
       "      <td>4.4</td>\n",
       "      <td>women</td>\n",
       "      <td>adidas</td>\n",
       "      <td>casual</td>\n",
       "    </tr>\n",
       "    <tr>\n",
       "      <th>274</th>\n",
       "      <td>Women's adidas UltraBOOST X Running Shoes</td>\n",
       "      <td>5</td>\n",
       "      <td>180.00</td>\n",
       "      <td>119.98</td>\n",
       "      <td>459.0</td>\n",
       "      <td>4.2</td>\n",
       "      <td>women</td>\n",
       "      <td>adidas</td>\n",
       "      <td>running</td>\n",
       "    </tr>\n",
       "    <tr>\n",
       "      <th>127</th>\n",
       "      <td>Women's adidas Originals Stan Smith Casual Shoes</td>\n",
       "      <td>1</td>\n",
       "      <td>74.99</td>\n",
       "      <td>NaN</td>\n",
       "      <td>341.0</td>\n",
       "      <td>4.3</td>\n",
       "      <td>women</td>\n",
       "      <td>adidas</td>\n",
       "      <td>casual</td>\n",
       "    </tr>\n",
       "    <tr>\n",
       "      <th>108</th>\n",
       "      <td>Women's adidas Gazelle Casual Shoes</td>\n",
       "      <td>1</td>\n",
       "      <td>79.99</td>\n",
       "      <td>29.98</td>\n",
       "      <td>200.0</td>\n",
       "      <td>4.2</td>\n",
       "      <td>women</td>\n",
       "      <td>adidas</td>\n",
       "      <td>casual</td>\n",
       "    </tr>\n",
       "    <tr>\n",
       "      <th>129</th>\n",
       "      <td>Women's adidas EQT Support ADV Casual Shoes</td>\n",
       "      <td>2</td>\n",
       "      <td>110.00</td>\n",
       "      <td>89.98</td>\n",
       "      <td>179.0</td>\n",
       "      <td>4.2</td>\n",
       "      <td>women</td>\n",
       "      <td>adidas</td>\n",
       "      <td>casual</td>\n",
       "    </tr>\n",
       "    <tr>\n",
       "      <th>98</th>\n",
       "      <td>Women's adidas UltraBOOST X Parley Running Shoes</td>\n",
       "      <td>1</td>\n",
       "      <td>180.00</td>\n",
       "      <td>NaN</td>\n",
       "      <td>131.0</td>\n",
       "      <td>4.3</td>\n",
       "      <td>women</td>\n",
       "      <td>adidas</td>\n",
       "      <td>running</td>\n",
       "    </tr>\n",
       "    <tr>\n",
       "      <th>22</th>\n",
       "      <td>Women's adidas NMD R1 STLT Primeknit Casual Shoes</td>\n",
       "      <td>5</td>\n",
       "      <td>170.00</td>\n",
       "      <td>99.98</td>\n",
       "      <td>131.0</td>\n",
       "      <td>4.2</td>\n",
       "      <td>women</td>\n",
       "      <td>adidas</td>\n",
       "      <td>casual</td>\n",
       "    </tr>\n",
       "    <tr>\n",
       "      <th>197</th>\n",
       "      <td>Women's adidas I-5923 Runner Casual Shoes</td>\n",
       "      <td>2</td>\n",
       "      <td>130.00</td>\n",
       "      <td>59.98</td>\n",
       "      <td>128.0</td>\n",
       "      <td>4.1</td>\n",
       "      <td>women</td>\n",
       "      <td>adidas</td>\n",
       "      <td>casual</td>\n",
       "    </tr>\n",
       "  </tbody>\n",
       "</table>\n",
       "</div>"
      ],
      "text/plain": [
       "                                                  item  color   price  \\\n",
       "101    Women's adidas Originals Superstar Casual Shoes      5   99.99   \n",
       "181            Women's adidas UltraBOOST Running Shoes      9  180.00   \n",
       "244                 Women's adidas NMD R2 Casual Shoes      3  130.00   \n",
       "274          Women's adidas UltraBOOST X Running Shoes      5  180.00   \n",
       "127   Women's adidas Originals Stan Smith Casual Shoes      1   74.99   \n",
       "108                Women's adidas Gazelle Casual Shoes      1   79.99   \n",
       "129        Women's adidas EQT Support ADV Casual Shoes      2  110.00   \n",
       "98    Women's adidas UltraBOOST X Parley Running Shoes      1  180.00   \n",
       "22   Women's adidas NMD R1 STLT Primeknit Casual Shoes      5  170.00   \n",
       "197          Women's adidas I-5923 Runner Casual Shoes      2  130.00   \n",
       "\n",
       "    saleprice  review  rating gender   brand     type  \n",
       "101       NaN  1191.0     4.4  women  adidas   casual  \n",
       "181    149.98   760.0     4.6  women  adidas  running  \n",
       "244     67.48   636.0     4.4  women  adidas   casual  \n",
       "274    119.98   459.0     4.2  women  adidas  running  \n",
       "127       NaN   341.0     4.3  women  adidas   casual  \n",
       "108     29.98   200.0     4.2  women  adidas   casual  \n",
       "129     89.98   179.0     4.2  women  adidas   casual  \n",
       "98        NaN   131.0     4.3  women  adidas  running  \n",
       "22      99.98   131.0     4.2  women  adidas   casual  \n",
       "197     59.98   128.0     4.1  women  adidas   casual  "
      ]
     },
     "execution_count": 27,
     "metadata": {},
     "output_type": "execute_result"
    },
    {
     "data": {
      "image/png": "[encoded data removed]",
      "text/plain": [
       "<matplotlib.figure.Figure at 0x1a1cf1c160>"
      ]
     },
     "metadata": {},
     "output_type": "display_data"
    }
   ],
   "source": [
    "# Adidas top 10 (women)\n",
    "top_ad_women = women_unique_df[women_unique_df.brand == 'adidas'].nlargest(10,'review')\n",
    "sns.barplot(x='review', y='item', data=top_ad_women, ci=None, color=\"#dd8452\").\\\n",
    "set(yticklabels= ['Original Superstar', 'UltraBOOST', 'NMD R2', 'UltraBOOST X', 'Original Stan Smith',\\\n",
    "                 'Gazelle', 'EQT Support ADV', 'UltraBOOST X Parley', 'NMD R1', 'I-5923 Runner'])\n",
    "\n",
    "plt.xlabel('Reviews / shoes')\n",
    "plt.ylabel('')\n",
    "plt.title('Women')\n",
    "top_ad_women\n",
    "# adidas capitalize on the most popular series: UltraBOOST Running (2 lines), NMD, Originals Superstar and Stan Smith Casual Shoes\n"
   ]
  },
  {
   "cell_type": "code",
   "execution_count": 28,
   "metadata": {},
   "outputs": [
    {
     "data": {
      "text/html": [
       "<div>\n",
       "<style scoped>\n",
       "    .dataframe tbody tr th:only-of-type {\n",
       "        vertical-align: middle;\n",
       "    }\n",
       "\n",
       "    .dataframe tbody tr th {\n",
       "        vertical-align: top;\n",
       "    }\n",
       "\n",
       "    .dataframe thead th {\n",
       "        text-align: right;\n",
       "    }\n",
       "</style>\n",
       "<table border=\"1\" class=\"dataframe\">\n",
       "  <thead>\n",
       "    <tr style=\"text-align: right;\">\n",
       "      <th></th>\n",
       "      <th>item</th>\n",
       "      <th>color</th>\n",
       "      <th>price</th>\n",
       "      <th>saleprice</th>\n",
       "      <th>review</th>\n",
       "      <th>rating</th>\n",
       "      <th>gender</th>\n",
       "      <th>brand</th>\n",
       "      <th>type</th>\n",
       "    </tr>\n",
       "  </thead>\n",
       "  <tbody>\n",
       "    <tr>\n",
       "      <th>40</th>\n",
       "      <td>Women's Nike Roshe One Casual Shoes</td>\n",
       "      <td>6</td>\n",
       "      <td>74.99</td>\n",
       "      <td>See price in cart</td>\n",
       "      <td>837.0</td>\n",
       "      <td>4.6</td>\n",
       "      <td>women</td>\n",
       "      <td>nike</td>\n",
       "      <td>casual</td>\n",
       "    </tr>\n",
       "    <tr>\n",
       "      <th>151</th>\n",
       "      <td>Women's Nike Air Huarache Running Shoes</td>\n",
       "      <td>9</td>\n",
       "      <td>110.00</td>\n",
       "      <td>See price in cart</td>\n",
       "      <td>340.0</td>\n",
       "      <td>4.4</td>\n",
       "      <td>women</td>\n",
       "      <td>nike</td>\n",
       "      <td>running</td>\n",
       "    </tr>\n",
       "    <tr>\n",
       "      <th>198</th>\n",
       "      <td>Women's Nike Air Max Thea Casual Shoes</td>\n",
       "      <td>1</td>\n",
       "      <td>94.99</td>\n",
       "      <td>37.48</td>\n",
       "      <td>218.0</td>\n",
       "      <td>3.8</td>\n",
       "      <td>women</td>\n",
       "      <td>nike</td>\n",
       "      <td>casual</td>\n",
       "    </tr>\n",
       "    <tr>\n",
       "      <th>26</th>\n",
       "      <td>Women's Nike Air Huarache Run Ultra Casual Shoes</td>\n",
       "      <td>3</td>\n",
       "      <td>115.00</td>\n",
       "      <td>56.24</td>\n",
       "      <td>105.0</td>\n",
       "      <td>4.5</td>\n",
       "      <td>women</td>\n",
       "      <td>nike</td>\n",
       "      <td>casual</td>\n",
       "    </tr>\n",
       "    <tr>\n",
       "      <th>14</th>\n",
       "      <td>Women's Nike Roshe Two Casual Shoes</td>\n",
       "      <td>1</td>\n",
       "      <td>89.99</td>\n",
       "      <td>44.98</td>\n",
       "      <td>100.0</td>\n",
       "      <td>4.2</td>\n",
       "      <td>women</td>\n",
       "      <td>nike</td>\n",
       "      <td>casual</td>\n",
       "    </tr>\n",
       "    <tr>\n",
       "      <th>45</th>\n",
       "      <td>Women's Nike LunarEpic Low Flyknit 2 Running S...</td>\n",
       "      <td>3</td>\n",
       "      <td>140.00</td>\n",
       "      <td>74.99</td>\n",
       "      <td>89.0</td>\n",
       "      <td>4.0</td>\n",
       "      <td>women</td>\n",
       "      <td>nike</td>\n",
       "      <td>running</td>\n",
       "    </tr>\n",
       "    <tr>\n",
       "      <th>49</th>\n",
       "      <td>Women's Nike Free RN Flyknit 2017 Running Shoes</td>\n",
       "      <td>1</td>\n",
       "      <td>120.00</td>\n",
       "      <td>90</td>\n",
       "      <td>83.0</td>\n",
       "      <td>4.4</td>\n",
       "      <td>women</td>\n",
       "      <td>nike</td>\n",
       "      <td>running</td>\n",
       "    </tr>\n",
       "    <tr>\n",
       "      <th>214</th>\n",
       "      <td>Women's Nike Air Huarache Run Premium Running ...</td>\n",
       "      <td>3</td>\n",
       "      <td>130.00</td>\n",
       "      <td>99.98</td>\n",
       "      <td>49.0</td>\n",
       "      <td>4.4</td>\n",
       "      <td>women</td>\n",
       "      <td>nike</td>\n",
       "      <td>running</td>\n",
       "    </tr>\n",
       "    <tr>\n",
       "      <th>155</th>\n",
       "      <td>Women's Nike Air Zoom Pegasus 34 Running Shoes</td>\n",
       "      <td>2</td>\n",
       "      <td>110.00</td>\n",
       "      <td>79.98</td>\n",
       "      <td>42.0</td>\n",
       "      <td>4.0</td>\n",
       "      <td>women</td>\n",
       "      <td>nike</td>\n",
       "      <td>running</td>\n",
       "    </tr>\n",
       "    <tr>\n",
       "      <th>28</th>\n",
       "      <td>Women's Nike Air Presto TD Casual Shoes</td>\n",
       "      <td>1</td>\n",
       "      <td>130.00</td>\n",
       "      <td>NaN</td>\n",
       "      <td>35.0</td>\n",
       "      <td>4.6</td>\n",
       "      <td>women</td>\n",
       "      <td>nike</td>\n",
       "      <td>casual</td>\n",
       "    </tr>\n",
       "  </tbody>\n",
       "</table>\n",
       "</div>"
      ],
      "text/plain": [
       "                                                  item  color   price  \\\n",
       "40                 Women's Nike Roshe One Casual Shoes      6   74.99   \n",
       "151            Women's Nike Air Huarache Running Shoes      9  110.00   \n",
       "198             Women's Nike Air Max Thea Casual Shoes      1   94.99   \n",
       "26    Women's Nike Air Huarache Run Ultra Casual Shoes      3  115.00   \n",
       "14                 Women's Nike Roshe Two Casual Shoes      1   89.99   \n",
       "45   Women's Nike LunarEpic Low Flyknit 2 Running S...      3  140.00   \n",
       "49     Women's Nike Free RN Flyknit 2017 Running Shoes      1  120.00   \n",
       "214  Women's Nike Air Huarache Run Premium Running ...      3  130.00   \n",
       "155     Women's Nike Air Zoom Pegasus 34 Running Shoes      2  110.00   \n",
       "28             Women's Nike Air Presto TD Casual Shoes      1  130.00   \n",
       "\n",
       "             saleprice  review  rating gender brand     type  \n",
       "40   See price in cart   837.0     4.6  women  nike   casual  \n",
       "151  See price in cart   340.0     4.4  women  nike  running  \n",
       "198              37.48   218.0     3.8  women  nike   casual  \n",
       "26               56.24   105.0     4.5  women  nike   casual  \n",
       "14               44.98   100.0     4.2  women  nike   casual  \n",
       "45               74.99    89.0     4.0  women  nike  running  \n",
       "49                  90    83.0     4.4  women  nike  running  \n",
       "214              99.98    49.0     4.4  women  nike  running  \n",
       "155              79.98    42.0     4.0  women  nike  running  \n",
       "28                 NaN    35.0     4.6  women  nike   casual  "
      ]
     },
     "execution_count": 28,
     "metadata": {},
     "output_type": "execute_result"
    },
    {
     "data": {
      "image/png": "[encoded data removed]",
      "text/plain": [
       "<matplotlib.figure.Figure at 0x1a1cdeb0b8>"
      ]
     },
     "metadata": {},
     "output_type": "display_data"
    }
   ],
   "source": [
    "# Nike top 10 (women)\n",
    "top_nike_women = women_unique_df[women_unique_df.brand == 'nike'].nlargest(10,'review')\n",
    "sns.barplot(x='review', y='item', data=top_nike_women, ci=None, color=\"#4c72b0\").\\\n",
    "set(yticklabels= ['Roshe One', 'Air Huarache', 'Air Max Thea', 'Air Huarache Casual', 'Roshe Two',\\\n",
    "                 'LunarEpic Flyknit', 'RN Flyknit', 'Air Huarache Premium', 'Air Zoom Pegasus', 'Air Presto'])\n",
    "\n",
    "plt.xlabel('Reviews / shoes')\n",
    "plt.ylabel('')\n",
    "plt.title('Women')\n",
    "top_nike_women"
   ]
  },
  {
   "cell_type": "code",
   "execution_count": null,
   "metadata": {},
   "outputs": [],
   "source": []
  }
 ],
 "metadata": {
  "kernelspec": {
   "display_name": "Python 3",
   "language": "python",
   "name": "python3"
  },
  "language_info": {
   "codemirror_mode": {
    "name": "ipython",
    "version": 3
   },
   "file_extension": ".py",
   "mimetype": "text/x-python",
   "name": "python",
   "nbconvert_exporter": "python",
   "pygments_lexer": "ipython3",
   "version": "3.6.4"
  }
 },
 "nbformat": 4,
 "nbformat_minor": 2
}
